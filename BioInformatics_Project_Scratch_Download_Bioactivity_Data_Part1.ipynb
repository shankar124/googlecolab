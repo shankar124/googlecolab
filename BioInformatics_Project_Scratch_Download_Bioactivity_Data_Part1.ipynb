{
  "nbformat": 4,
  "nbformat_minor": 0,
  "metadata": {
    "colab": {
      "provenance": [],
      "authorship_tag": "ABX9TyMSAoovyF1RE6cCnO4UAh15",
      "include_colab_link": true
    },
    "kernelspec": {
      "name": "python3",
      "display_name": "Python 3"
    },
    "language_info": {
      "name": "python"
    }
  },
  "cells": [
    {
      "cell_type": "markdown",
      "metadata": {
        "id": "view-in-github",
        "colab_type": "text"
      },
      "source": [
        "<a href=\"https://colab.research.google.com/github/shankar124/googlecolab/blob/main/BioInformatics_Project_Scratch_Download_Bioactivity_Data_Part1.ipynb\" target=\"_parent\"><img src=\"https://colab.research.google.com/assets/colab-badge.svg\" alt=\"Open In Colab\"/></a>"
      ]
    },
    {
      "cell_type": "markdown",
      "source": [
        "YouTube Link of this Project - https://www.youtube.com/watch?v=plVLRashaA8&list=PLtqF5YXg7GLlQJUv9XJ3RWdd5VYGwBHrP\n"
      ],
      "metadata": {
        "id": "BlWX4MHDAM2x"
      }
    },
    {
      "cell_type": "markdown",
      "source": [
        "**ChEMBL Database**\n",
        "\n",
        "---\n",
        "The [ChEMBL](https://www.ebi.ac.uk/chembl/) Database is a database that contains curated bioactivity data of more than 2 million compounds. It is compiled from more than 76,000 documents, 1.2 million assays and the data spans 13,000 targets and 1,800 cells and 33,000 indications. [Data as of March 25, 2020; ChEMBL version 26].\n",
        "\n",
        "\n"
      ],
      "metadata": {
        "id": "0LKKLvhVAt1d"
      }
    },
    {
      "cell_type": "markdown",
      "source": [
        "**Installing Libraries**\n",
        "\n",
        "\n",
        "\n",
        "Install the ChEMBL web service package so that we can retrieve bioactivity data from the ChEMBL Database.\n"
      ],
      "metadata": {
        "id": "vm8weXcwAxG1"
      }
    },
    {
      "cell_type": "code",
      "source": [
        "! pip install chembl_webresource_client"
      ],
      "metadata": {
        "id": "QmCa00mbCGMT"
      },
      "execution_count": null,
      "outputs": []
    },
    {
      "cell_type": "markdown",
      "source": [
        "**Importing Libraries**"
      ],
      "metadata": {
        "id": "QlqRNr0zCrK_"
      }
    },
    {
      "cell_type": "code",
      "source": [
        "import pandas as pd\n",
        "from chembl_webresource_client.new_client import new_client"
      ],
      "metadata": {
        "id": "7B5cxZAICvQs"
      },
      "execution_count": 2,
      "outputs": []
    },
    {
      "cell_type": "markdown",
      "source": [
        "### Search for Target protein"
      ],
      "metadata": {
        "id": "Hr_rNECLDJb9"
      }
    },
    {
      "cell_type": "markdown",
      "source": [
        "#### Target serach for coronavirus"
      ],
      "metadata": {
        "id": "lOU0h1mNDVGE"
      }
    },
    {
      "cell_type": "code",
      "source": [
        "## Target search for coronavirus\n",
        "\n",
        "target = new_client.target\n",
        "target_query = target.search('coronavirus')\n",
        "targets = pd.DataFrame.from_dict(target_query)\n",
        "targets"
      ],
      "metadata": {
        "id": "-drPKazwDbNf"
      },
      "execution_count": null,
      "outputs": []
    },
    {
      "cell_type": "markdown",
      "source": [
        "Select and retrieve bioactivity data for SARS coronavirus 3C-like proteinase (seventh entry)"
      ],
      "metadata": {
        "id": "6ly1bxiuEZda"
      }
    },
    {
      "cell_type": "markdown",
      "source": [
        "We will assign the seventh entry (which corresponds to the target protein, coronavirus 3C-like proteinase) to the *selected_target* variable"
      ],
      "metadata": {
        "id": "whOySs9QEmvp"
      }
    },
    {
      "cell_type": "code",
      "source": [
        "selected_target = targets.target_chembl_id[6]\n",
        "selected_target"
      ],
      "metadata": {
        "colab": {
          "base_uri": "https://localhost:8080/",
          "height": 36
        },
        "id": "8HydNVQGEl7B",
        "outputId": "5b6a7ae7-5500-42ba-c0ea-6d93c6de0f51"
      },
      "execution_count": 4,
      "outputs": [
        {
          "output_type": "execute_result",
          "data": {
            "text/plain": [
              "'CHEMBL3927'"
            ],
            "application/vnd.google.colaboratory.intrinsic+json": {
              "type": "string"
            }
          },
          "metadata": {},
          "execution_count": 4
        }
      ]
    },
    {
      "cell_type": "markdown",
      "source": [
        "Here, we will retrieve only bioactivity data for coronavirus 3C-like proteinase (CHEMBL3927) that are reported as IC values in nM (nanomolar) unit."
      ],
      "metadata": {
        "id": "6aYYTCpLFTWr"
      }
    },
    {
      "cell_type": "code",
      "source": [
        "activity = new_client.activity\n",
        "res = activity.filter(target_chembl_id=selected_target).filter(standard_type=\"IC50\")\n",
        "res"
      ],
      "metadata": {
        "id": "pHG2L1bUFVHK"
      },
      "execution_count": null,
      "outputs": []
    },
    {
      "cell_type": "markdown",
      "source": [
        "Assign it to a dataframe called df"
      ],
      "metadata": {
        "id": "NuuXSivyFxFj"
      }
    },
    {
      "cell_type": "code",
      "source": [
        "df = pd.DataFrame.from_dict(res)\n",
        "# df = pd.DataFrame(res)\n",
        "df"
      ],
      "metadata": {
        "id": "jfx2LeZQF2mr"
      },
      "execution_count": null,
      "outputs": []
    },
    {
      "cell_type": "code",
      "source": [
        "## to check the unique value in standard_type column\n",
        "df.standard_type.unique()\n",
        "\n",
        "## its contains only IC50 so our data set is correct"
      ],
      "metadata": {
        "id": "RvOJrAMxHDUH"
      },
      "execution_count": null,
      "outputs": []
    },
    {
      "cell_type": "code",
      "source": [
        "df.to_csv('bio_data.csv', index=False)"
      ],
      "metadata": {
        "id": "Tijz2v3OKbjN"
      },
      "execution_count": 11,
      "outputs": []
    },
    {
      "cell_type": "markdown",
      "source": [
        "**Copying files to Google Drive**\n"
      ],
      "metadata": {
        "id": "WT09CoNsWjZM"
      }
    },
    {
      "cell_type": "code",
      "source": [
        "# from google.colab import drive\n",
        "# drive.mount('/content/gdrive/', force_remount=True)"
      ],
      "metadata": {
        "id": "Y1NTqy1aWvvh"
      },
      "execution_count": null,
      "outputs": []
    },
    {
      "cell_type": "code",
      "source": [
        "! head bio_data.csv"
      ],
      "metadata": {
        "id": "686MKXYsXnfw"
      },
      "execution_count": null,
      "outputs": []
    },
    {
      "cell_type": "markdown",
      "source": [
        "**Handling missing data**"
      ],
      "metadata": {
        "id": "H0IgThUqXtOr"
      }
    },
    {
      "cell_type": "markdown",
      "source": [
        "Check for Null value\n"
      ],
      "metadata": {
        "id": "ZmT1jkM_YKIs"
      }
    },
    {
      "cell_type": "code",
      "source": [
        "df.isnull().sum()"
      ],
      "metadata": {
        "id": "OsiGRc9RYNly"
      },
      "execution_count": null,
      "outputs": []
    },
    {
      "cell_type": "markdown",
      "source": [
        "If any compounds has missing value for the standard_value column then drop it"
      ],
      "metadata": {
        "id": "wuiT4ufgYjKR"
      }
    },
    {
      "cell_type": "code",
      "source": [
        "df2 = df[df.standard_value.notna()]\n",
        "df2"
      ],
      "metadata": {
        "id": "k1QeZ6aMYoE3"
      },
      "execution_count": null,
      "outputs": []
    },
    {
      "cell_type": "code",
      "source": [
        "# Check Again\n",
        "# df2.isnull().sum()"
      ],
      "metadata": {
        "id": "V2P6GX7Nmeww"
      },
      "execution_count": null,
      "outputs": []
    },
    {
      "cell_type": "markdown",
      "source": [
        "Apparently, for this dataset there is no missing data. But we can use the above code cell for bioactivity data of other target protein.\n"
      ],
      "metadata": {
        "id": "zBZFoRErZQh8"
      }
    },
    {
      "cell_type": "markdown",
      "source": [
        "### Data pre-processing of the bioactivity data\n"
      ],
      "metadata": {
        "id": "szzEfp3lZULy"
      }
    },
    {
      "cell_type": "markdown",
      "source": [
        "\n",
        "**Labeling compounds as either being active, inactive or intermediate**\n",
        "\n",
        "The bioactivity data is in the IC50 unit. Compounds having values of less than 1000 nM will be considered to be active while those greater than 10,000 nM will be considered to be inactive. As for those values in between 1,000 and 10,000 nM will be referred to as intermediate.\n"
      ],
      "metadata": {
        "id": "6CFRQG01ZX_B"
      }
    },
    {
      "cell_type": "code",
      "source": [
        "# for i in range (0,len(df2.standard_value)):\n",
        "#   if df2.standard_value[i] < float(1000):\n",
        "#     df2."
      ],
      "metadata": {
        "id": "UUOCfjMBZ4ah"
      },
      "execution_count": null,
      "outputs": []
    },
    {
      "cell_type": "code",
      "source": [
        "col_list = ['molecule_chembl_id','canonical_smiles','standard_value']\n",
        "df3 = df2[col_list]\n",
        "df3"
      ],
      "metadata": {
        "id": "8CB73DUccwTO"
      },
      "execution_count": null,
      "outputs": []
    },
    {
      "cell_type": "code",
      "source": [
        "# for i in range (0,len(df2.standard_value)):\n",
        "#    if float(df3.standard_value[i]) <= float(1000):\n",
        "#      df3['bioactivity_class'] = 'active'\n",
        "#    elif float(df3.standard_value[i]) >= float(10000):\n",
        "#      df3['bioactivity_class'] = 'inactive'\n",
        "#    else :\n",
        "#     df3['bioactivity_class'] = 'intermediate'\n",
        "df4 = df3.copy()\n",
        "bioactivity_class = []\n",
        "for i in df4.standard_value:\n",
        "  if float(i) >= 10000:\n",
        "    bioactivity_class.append('inactive')\n",
        "  elif float(i) <= 1000:\n",
        "    bioactivity_class.append('active')\n",
        "  else:\n",
        "    bioactivity_class.append('intermediate')\n",
        "print(len(bioactivity_class))\n",
        "\n",
        "df4['bioactivity_class'] = bioactivity_class\n",
        "df4\n"
      ],
      "metadata": {
        "id": "ENF8COWYdp-x"
      },
      "execution_count": null,
      "outputs": []
    },
    {
      "cell_type": "markdown",
      "source": [
        "Save the dataframe to CSV file"
      ],
      "metadata": {
        "id": "7MrHcj2V65CA"
      }
    },
    {
      "cell_type": "code",
      "source": [
        "df4.to_csv('bioactivity_preprocesed_data.csv', index=False)"
      ],
      "metadata": {
        "id": "eNAOaWZ95e0M"
      },
      "execution_count": 34,
      "outputs": []
    }
  ]
}