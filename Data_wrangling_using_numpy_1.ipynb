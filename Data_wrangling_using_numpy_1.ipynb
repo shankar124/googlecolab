{
  "nbformat": 4,
  "nbformat_minor": 0,
  "metadata": {
    "colab": {
      "provenance": [],
      "authorship_tag": "ABX9TyMynDQeyAKqQpxSC0ayZ0Pk",
      "include_colab_link": true
    },
    "kernelspec": {
      "name": "python3",
      "display_name": "Python 3"
    },
    "language_info": {
      "name": "python"
    }
  },
  "cells": [
    {
      "cell_type": "markdown",
      "metadata": {
        "id": "view-in-github",
        "colab_type": "text"
      },
      "source": [
        "<a href=\"https://colab.research.google.com/github/shankar124/googlecolab/blob/main/Data_wrangling_using_numpy_1.ipynb\" target=\"_parent\"><img src=\"https://colab.research.google.com/assets/colab-badge.svg\" alt=\"Open In Colab\"/></a>"
      ]
    },
    {
      "cell_type": "markdown",
      "source": [
        "Web Scrapping using Pandas\n",
        "\n",
        "Data will be coming from"
      ],
      "metadata": {
        "id": "vGNRnDZDa5dg"
      }
    },
    {
      "cell_type": "markdown",
      "source": [
        "Method -1\n",
        "Using year as an Input\n"
      ],
      "metadata": {
        "id": "a5xxO8OWb5Bb"
      }
    },
    {
      "cell_type": "code",
      "source": [
        "#The building block\n",
        "year = '2020'\n",
        "\n",
        "str= 'https://www.basketball-reference.com/leagues/NBA_{}_per_game.html'\n",
        "\n",
        "#combining the URL + year strings together\n",
        "url = str.format(year)\n",
        "url"
      ],
      "metadata": {
        "id": "osxZOfo1a7cl"
      },
      "execution_count": null,
      "outputs": []
    },
    {
      "cell_type": "markdown",
      "source": [
        "Now , lets programmatically return a list of URL given a list of years"
      ],
      "metadata": {
        "id": "A6llUCgkciA5"
      }
    },
    {
      "cell_type": "code",
      "source": [
        "years = [2015, 2016, 2017, 2018, 2019,2020]\n",
        "\n",
        "str= 'https://www.basketball-reference.com/leagues/NBA_{}_per_game.html'\n",
        "\n",
        "for year in years:\n",
        "  url = str.format(year)\n",
        "  print(url)"
      ],
      "metadata": {
        "id": "cDXSzmdRcuGp"
      },
      "execution_count": null,
      "outputs": []
    },
    {
      "cell_type": "markdown",
      "source": [
        "## Read HTML webpage into pandas"
      ],
      "metadata": {
        "id": "HgxCETVDdckt"
      }
    },
    {
      "cell_type": "code",
      "source": [
        "import pandas as pd\n",
        "\n",
        "df = pd.read_html(url, header=0)\n",
        "df"
      ],
      "metadata": {
        "id": "ocs89T17dhG7"
      },
      "execution_count": null,
      "outputs": []
    },
    {
      "cell_type": "code",
      "source": [
        "len(df)"
      ],
      "metadata": {
        "id": "4NUP1yqpfXkf"
      },
      "execution_count": null,
      "outputs": []
    },
    {
      "cell_type": "code",
      "source": [
        "df[0]"
      ],
      "metadata": {
        "id": "yLe3sDg3flJg"
      },
      "execution_count": null,
      "outputs": []
    },
    {
      "cell_type": "code",
      "source": [
        "df2019 = df[0]"
      ],
      "metadata": {
        "id": "Be8fDl3IgbqR"
      },
      "execution_count": 19,
      "outputs": []
    },
    {
      "cell_type": "code",
      "source": [
        "df2019.shape"
      ],
      "metadata": {
        "id": "wK3PvOeBjJGu"
      },
      "execution_count": null,
      "outputs": []
    },
    {
      "cell_type": "markdown",
      "source": [
        "## Data Cleaning"
      ],
      "metadata": {
        "id": "2U_B3jUngj1E"
      }
    },
    {
      "cell_type": "code",
      "source": [
        "df2019[df2019.Age == 'Age']"
      ],
      "metadata": {
        "id": "uLAjeceaiGiH"
      },
      "execution_count": null,
      "outputs": []
    },
    {
      "cell_type": "code",
      "source": [
        "len(df2019[df2019.Age == 'Age'])"
      ],
      "metadata": {
        "id": "OMnSJERminba"
      },
      "execution_count": null,
      "outputs": []
    },
    {
      "cell_type": "code",
      "source": [
        "df = df2019.drop(df2019[df2019.Age == 'Age'].index)\n",
        "df.shape"
      ],
      "metadata": {
        "id": "kqiQy3nFiulB"
      },
      "execution_count": null,
      "outputs": []
    },
    {
      "cell_type": "markdown",
      "source": [
        "## Quick Exploratory Data Analysis"
      ],
      "metadata": {
        "id": "IkOjgfoCjiJN"
      }
    },
    {
      "cell_type": "code",
      "source": [
        "import seaborn as sns"
      ],
      "metadata": {
        "id": "3Bqnxt46jpv9"
      },
      "execution_count": 27,
      "outputs": []
    },
    {
      "cell_type": "markdown",
      "source": [
        "Making the histogram"
      ],
      "metadata": {
        "id": "PAA4jw2ijv3p"
      }
    },
    {
      "cell_type": "code",
      "source": [
        "sns.distplot(df.PTS, kde=False)"
      ],
      "metadata": {
        "colab": {
          "base_uri": "https://localhost:8080/",
          "height": 669
        },
        "id": "OooYfO_bj0as",
        "outputId": "2e0be29c-fdc2-4ad2-f557-75f09343caeb"
      },
      "execution_count": 34,
      "outputs": [
        {
          "output_type": "stream",
          "name": "stderr",
          "text": [
            "<ipython-input-34-e0dabddf9533>:1: UserWarning: \n",
            "\n",
            "`distplot` is a deprecated function and will be removed in seaborn v0.14.0.\n",
            "\n",
            "Please adapt your code to use either `displot` (a figure-level function with\n",
            "similar flexibility) or `histplot` (an axes-level function for histograms).\n",
            "\n",
            "For a guide to updating your code to use the new functions, please see\n",
            "https://gist.github.com/mwaskom/de44147ed2974457ad6372750bbe5751\n",
            "\n",
            "  sns.distplot(df.PTS, kde=False)\n"
          ]
        },
        {
          "output_type": "execute_result",
          "data": {
            "text/plain": [
              "<Axes: xlabel='PTS'>"
            ]
          },
          "metadata": {},
          "execution_count": 34
        },
        {
          "output_type": "display_data",
          "data": {
            "text/plain": [
              "<Figure size 640x480 with 1 Axes>"
            ],
            "image/png": "[encoded data removed]"
          },
          "metadata": {}
        }
      ]
    }
  ]
}